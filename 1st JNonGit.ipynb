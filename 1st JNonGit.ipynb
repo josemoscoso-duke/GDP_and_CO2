{
 "cells": [
  {
   "cell_type": "code",
   "execution_count": null,
   "metadata": {},
   "outputs": [],
   "source": [
    "duplicate = []\n",
    "def firstduplicate(a):\n",
    "    for i in range(len(a)):\n",
    "        duplicate \n",
    "    "
   ]
  },
  {
   "cell_type": "code",
   "execution_count": null,
   "metadata": {},
   "outputs": [],
   "source": []
  },
  {
   "cell_type": "code",
   "execution_count": 253,
   "metadata": {},
   "outputs": [
    {
     "name": "stdout",
     "output_type": "stream",
     "text": [
      "[7, 8, 3, 1]\n",
      "[7, 8, 3, 1]\n",
      "[4]\n"
     ]
    },
    {
     "data": {
      "text/plain": [
       "8"
      ]
     },
     "execution_count": 253,
     "metadata": {},
     "output_type": "execute_result"
    }
   ],
   "source": [
    "import numpy as np\n",
    "import pandas as pd\n",
    "lista=[3,5,6,7,8,3,1,2]\n",
    "lista=pd.Series(lista)\n",
    "z=[]\n",
    "print(m[-5:-1])\n",
    "print(m[3:-1])\n",
    "m[-1:-5:-1]\n",
    "list(range(len(m)))\n",
    "z.append(lista[0]+1)\n",
    "print(z)\n",
    "len(lista)"
   ]
  },
  {
   "cell_type": "code",
   "execution_count": 83,
   "metadata": {},
   "outputs": [
    {
     "name": "stdout",
     "output_type": "stream",
     "text": [
      "0\n",
      "1\n",
      "1\n",
      "2\n",
      "3\n",
      "4\n",
      "5\n",
      "6\n",
      "7\n",
      "1\n",
      "2\n",
      "3\n",
      "4\n",
      "5\n",
      "6\n",
      "7\n",
      "2\n",
      "3\n",
      "4\n",
      "5\n",
      "6\n",
      "7\n",
      "3\n",
      "4\n",
      "5\n",
      "6\n",
      "7\n",
      "4\n",
      "4\n",
      "5\n",
      "8\n",
      "6\n",
      "7\n",
      "5\n",
      "6\n",
      "7\n",
      "6\n",
      "7\n"
     ]
    },
    {
     "data": {
      "text/plain": [
       "1"
      ]
     },
     "execution_count": 83,
     "metadata": {},
     "output_type": "execute_result"
    }
   ],
   "source": [
    "ind_list = []\n",
    "def compare(a):\n",
    "    for i in range (len(a)-1):\n",
    "        print(i)\n",
    "        for j in range (i+1,len(a)):\n",
    "            print(j)\n",
    "            if a[i]==a[j]:\n",
    "                print(a[j])count            ind_list.append(j)\n",
    "                pass\n",
    "            else:\n",
    "                pass\n",
    "    if ind_list == []:\n",
    "        return -1\n",
    "    else:\n",
    "        return a[min(ind_list)]    \n",
    "\n",
    "l = [1,1,3,4,8,8,6,4]\n",
    "compare(l)        "
   ]
  },
  {
   "cell_type": "code",
   "execution_count": 84,
   "metadata": {},
   "outputs": [
    {
     "data": {
      "text/plain": [
       "1"
      ]
     },
     "execution_count": 84,
     "metadata": {},
     "output_type": "execute_result"
    }
   ],
   "source": [
    "def firstDuplicate(a):\n",
    "    check = []\n",
    "    for x in a:\n",
    "        if not x in check:\n",
    "            check.append(x)\n",
    "        elif x in check:\n",
    "            return x\n",
    "    return -1\n",
    "        \n",
    "l = [1,1,3,4,8,8,6,4]\n",
    "firstDuplicate(l)"
   ]
  },
  {
   "cell_type": "code",
   "execution_count": 92,
   "metadata": {},
   "outputs": [
    {
     "data": {
      "text/plain": [
       "1"
      ]
     },
     "execution_count": 92,
     "metadata": {},
     "output_type": "execute_result"
    }
   ],
   "source": [
    "def centuryFromYear(year):\n",
    "    if year%100 == 0:\n",
    "        return year//100\n",
    "    else:\n",
    "        return year//100+1\n",
    "\n",
    "centuryFromYear(20)"
   ]
  },
  {
   "cell_type": "code",
   "execution_count": 210,
   "metadata": {},
   "outputs": [
    {
     "data": {
      "text/plain": [
       "False"
      ]
     },
     "execution_count": 210,
     "metadata": {},
     "output_type": "execute_result"
    }
   ],
   "source": [
    "def checkPalindrome(strng):\n",
    "    if len(strng)%2 == 0:\n",
    "        for i in range(len(strng)//2):\n",
    "            if strng[i] == strng[-(i+1)]:\n",
    "                pass\n",
    "            else:\n",
    "                return False\n",
    "                break\n",
    "        return True\n",
    "    elif len(strng)%2 != 0:\n",
    "        for i in range(len(strng)//2+1):\n",
    "            if strng[i] == strng[-(i+1)]:\n",
    "                pass\n",
    "            else:\n",
    "                return False\n",
    "                break\n",
    "        return True\n",
    "checkPalindrome('zzzazzazz')    \n",
    "    "
   ]
  },
  {
   "cell_type": "code",
   "execution_count": 198,
   "metadata": {},
   "outputs": [
    {
     "data": {
      "text/plain": [
       "range(0, 5)"
      ]
     },
     "execution_count": 198,
     "metadata": {},
     "output_type": "execute_result"
    }
   ],
   "source": [
    "\n",
    "range(len('zzzazzazz')//2+1)"
   ]
  },
  {
   "cell_type": "code",
   "execution_count": null,
   "metadata": {},
   "outputs": [],
   "source": [
    "def adjacentElementsProduct(input1):\n",
    "    product1 = []\n",
    "    for i in range(len(input1)-1):\n",
    "        m = input1[i]*input1[i+1]\n",
    "        product1.append(m)\n",
    "    return max(product1)"
   ]
  },
  {
   "cell_type": "code",
   "execution_count": 2,
   "metadata": {},
   "outputs": [
    {
     "name": "stdout",
     "output_type": "stream",
     "text": [
      "[3, 6, 10, 11, 12, 13]\n"
     ]
    },
    {
     "data": {
      "text/plain": [
       "6"
      ]
     },
     "execution_count": 2,
     "metadata": {},
     "output_type": "execute_result"
    }
   ],
   "source": [
    "def makeArrayConsecutive2(statues):\n",
    "    statues.sort()\n",
    "    lista=[]\n",
    "    for i in range(len(statues)-1):\n",
    "        while statues[i]+1 != statues [i+1]:\n",
    "            lista.append(statues[i]+1)\n",
    "            statues[i] += 1\n",
    "            pass\n",
    "        else:\n",
    "            pass\n",
    "    print(lista)\n",
    "    return len(lista)\n",
    "\n",
    "lista = [2,4,5,7,8,14,9]\n",
    "makeArrayConsecutive2(lista)\n"
   ]
  },
  {
   "cell_type": "code",
   "execution_count": 37,
   "metadata": {},
   "outputs": [
    {
     "ename": "UnboundLocalError",
     "evalue": "local variable 'sequence1' referenced before assignment",
     "output_type": "error",
     "traceback": [
      "\u001b[1;31m---------------------------------------------------------------------------\u001b[0m",
      "\u001b[1;31mUnboundLocalError\u001b[0m                         Traceback (most recent call last)",
      "\u001b[1;32m<ipython-input-37-7def198644ab>\u001b[0m in \u001b[0;36m<module>\u001b[1;34m\u001b[0m\n\u001b[0;32m     16\u001b[0m \u001b[1;33m\u001b[0m\u001b[0m\n\u001b[0;32m     17\u001b[0m \u001b[0msequence\u001b[0m \u001b[1;33m=\u001b[0m \u001b[1;33m[\u001b[0m\u001b[1;36m1\u001b[0m\u001b[1;33m,\u001b[0m \u001b[1;36m2\u001b[0m\u001b[1;33m,\u001b[0m \u001b[1;36m3\u001b[0m\u001b[1;33m,\u001b[0m \u001b[1;36m4\u001b[0m\u001b[1;33m,\u001b[0m \u001b[1;36m3\u001b[0m\u001b[1;33m,\u001b[0m \u001b[1;36m6\u001b[0m\u001b[1;33m]\u001b[0m\u001b[1;33m\u001b[0m\u001b[1;33m\u001b[0m\u001b[0m\n\u001b[1;32m---> 18\u001b[1;33m \u001b[0malmostIncreasingSequence\u001b[0m\u001b[1;33m(\u001b[0m\u001b[0msequence\u001b[0m\u001b[1;33m)\u001b[0m\u001b[1;33m\u001b[0m\u001b[1;33m\u001b[0m\u001b[0m\n\u001b[0m\u001b[0;32m     19\u001b[0m \u001b[1;33m\u001b[0m\u001b[0m\n\u001b[0;32m     20\u001b[0m \u001b[1;33m\u001b[0m\u001b[0m\n",
      "\u001b[1;32m<ipython-input-37-7def198644ab>\u001b[0m in \u001b[0;36malmostIncreasingSequence\u001b[1;34m(sequence)\u001b[0m\n\u001b[0;32m      8\u001b[0m             \u001b[0msequence1\u001b[0m \u001b[1;33m=\u001b[0m \u001b[0msequence\u001b[0m\u001b[1;33m.\u001b[0m\u001b[0mpop\u001b[0m\u001b[1;33m[\u001b[0m\u001b[0mi\u001b[0m\u001b[1;33m]\u001b[0m\u001b[1;33m\u001b[0m\u001b[1;33m\u001b[0m\u001b[0m\n\u001b[0;32m      9\u001b[0m             \u001b[1;32mbreak\u001b[0m\u001b[1;33m\u001b[0m\u001b[1;33m\u001b[0m\u001b[0m\n\u001b[1;32m---> 10\u001b[1;33m         \u001b[1;32mfor\u001b[0m \u001b[0mi\u001b[0m \u001b[1;32min\u001b[0m \u001b[0mrange\u001b[0m\u001b[1;33m(\u001b[0m\u001b[0mlen\u001b[0m\u001b[1;33m(\u001b[0m\u001b[0msequence1\u001b[0m\u001b[1;33m)\u001b[0m\u001b[1;33m-\u001b[0m\u001b[1;36m1\u001b[0m\u001b[1;33m)\u001b[0m\u001b[1;33m:\u001b[0m\u001b[1;33m\u001b[0m\u001b[1;33m\u001b[0m\u001b[0m\n\u001b[0m\u001b[0;32m     11\u001b[0m             \u001b[1;32mif\u001b[0m \u001b[0msequence1\u001b[0m\u001b[1;33m[\u001b[0m\u001b[0mi\u001b[0m\u001b[1;33m]\u001b[0m \u001b[1;33m<\u001b[0m \u001b[0msequence1\u001b[0m\u001b[1;33m[\u001b[0m\u001b[0mi\u001b[0m\u001b[1;33m+\u001b[0m\u001b[1;36m1\u001b[0m\u001b[1;33m]\u001b[0m\u001b[1;33m:\u001b[0m\u001b[1;33m\u001b[0m\u001b[1;33m\u001b[0m\u001b[0m\n\u001b[0;32m     12\u001b[0m                 \u001b[1;32mpass\u001b[0m\u001b[1;33m\u001b[0m\u001b[1;33m\u001b[0m\u001b[0m\n",
      "\u001b[1;31mUnboundLocalError\u001b[0m: local variable 'sequence1' referenced before assignment"
     ]
    }
   ],
   "source": [
    "def almostIncreasingSequence(sequence):\n",
    "    count1 = 0\n",
    "    for i in range(len(sequence)-1):\n",
    "        if sequence[i] < sequence[i+1]:\n",
    "            pass\n",
    "        else:            \n",
    "            count1 +=1\n",
    "            sequence1 = sequence.pop[i]\n",
    "            break\n",
    "        for i in range(len(sequence1)-1):\n",
    "            if sequence1[i] < sequence1[i+1]:\n",
    "                pass\n",
    "            else:\n",
    "                return False\n",
    "    return True\n",
    "        \n",
    "sequence = [1, 2, 3, 4, 3, 6]        \n",
    "almostIncreasingSequence(sequence)\n",
    "            \n",
    "    \n",
    "    "
   ]
  },
  {
   "cell_type": "code",
   "execution_count": 6,
   "metadata": {},
   "outputs": [
    {
     "data": {
      "text/plain": [
       "1    132\n",
       "2     94\n",
       "3    112\n",
       "4     84\n",
       "5    254\n",
       "6    322\n",
       "dtype: int64"
      ]
     },
     "execution_count": 6,
     "metadata": {},
     "output_type": "execute_result"
    }
   ],
   "source": [
    "import pandas as pd\n",
    "attendance = pd.Series([132, 94, 112, 84, 254, 322, 472],\n",
    "                       index=[1,2,3,4,5,6,7])\n",
    "attendance.loc[1:6]"
   ]
  },
  {
   "cell_type": "code",
   "execution_count": null,
   "metadata": {},
   "outputs": [],
   "source": []
  }
 ],
 "metadata": {
  "kernelspec": {
   "display_name": "Python 3",
   "language": "python",
   "name": "python3"
  },
  "language_info": {
   "codemirror_mode": {
    "name": "ipython",
    "version": 3
   },
   "file_extension": ".py",
   "mimetype": "text/x-python",
   "name": "python",
   "nbconvert_exporter": "python",
   "pygments_lexer": "ipython3",
   "version": "3.7.3"
  }
 },
 "nbformat": 4,
 "nbformat_minor": 4
}
